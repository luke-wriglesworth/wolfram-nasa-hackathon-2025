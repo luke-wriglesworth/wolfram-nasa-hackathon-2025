{
 "cells": [
  {
   "cell_type": "markdown",
   "id": "8086fc03-5111-49de-b624-69573373e679",
   "metadata": {
    "editable": true,
    "slideshow": {
     "slide_type": ""
    },
    "tags": []
   },
   "source": [
    "# Access Data from the Ocean Color Instrument (OCI)\n",
    "\n",
    "**Authors:** Anna Windle (NASA, SSAI), Ian Carroll (NASA, UMBC), Carina Poulin (NASA, SSAI)\n",
    "\n",
    "<div class=\"alert alert-info\" role=\"alert\">\n",
    "\n",
    "An [Earthdata Login][edl] account is required to access data from the NASA Earthdata system, including NASA ocean color data.\n",
    "\n",
    "</div>\n",
    "\n",
    "[edl]: https://urs.earthdata.nasa.gov/\n",
    "[oci-data-access]: https://oceancolor.gsfc.nasa.gov/resources/docs/tutorials/notebooks/oci_data_access/\n",
    "\n",
    "## Summary\n",
    "\n",
    "In this example we will use the `earthaccess` package to search for\n",
    "OCI products on NASA Earthdata. The `earthaccess` package, published\n",
    "on the [Python Package Index][pypi] and [conda-forge][conda],\n",
    "facilitates discovery and use of all NASA Earth Science data\n",
    "products by providing an abstraction layer for NASA’s [Common\n",
    "Metadata Repository (CMR) API][cmr] and by simplifying requests to\n",
    "NASA's [Earthdata Cloud][edcloud]. Searching for data is more\n",
    "approachable using `earthaccess` than low-level HTTP requests, and\n",
    "the same goes for S3 requests.\n",
    "\n",
    "In short, `earthaccess` helps **authenticate** with Earthdata Login,\n",
    "makes **search** easier, and provides a stream-lined way to **load\n",
    "data** into `xarray` containers. For more on `earthaccess`, visit\n",
    "the [documentation][earthaccess-docs] site. Be aware that\n",
    "`earthaccess` is under active development.\n",
    "\n",
    "To understand the discussions below on downloading and opening data,\n",
    "we need to clearly understand **where our notebook is\n",
    "running**. There are three cases to distinguish:\n",
    "\n",
    "1. The notebook is running on the local host. For instance, you started a Jupyter server on your laptop.\n",
    "1. The notebook is running on a remote host, but it does not have direct access to the NASA Earthdata Cloud. For instance, you are running in [GitHub Codespaces][codespaces].\n",
    "1. The notebook is running on a remote host that does have direct access to the NASA Earthdata Cloud. At this time, we cannot provide a \"for instance\" which is available to everyone.\n",
    "\n",
    "## Learning Objectives\n",
    "\n",
    "At the end of this notebook you will know:\n",
    "\n",
    "* How to store your NASA Earthdata Login credentials with `earthaccess`\n",
    "* How to use `earthaccess` to search for OCI data using search filters\n",
    "* How to download OCI data, but only when you need to\n",
    "\n",
    "## Contents\n",
    "\n",
    "1. [Setup](#setup)\n",
    "1. [NASA Earthdata Authentication](#auth)\n",
    "1. [Search for Data](#search)\n",
    "1. [Download Data](#download)\n",
    "\n",
    "<a name=\"setup\"></a>"
   ]
  },
  {
   "cell_type": "markdown",
   "id": "8b4ad9e8-d033-4250-8642-6114689861fb",
   "metadata": {
    "editable": true,
    "slideshow": {
     "slide_type": ""
    },
    "tags": []
   },
   "source": [
    "## 1. Setup\n",
    "\n",
    "We begin by importing the only package used in this notebook. If you\n",
    "have created an environment following the [guidance][tutorials]\n",
    "provided with this tutorial, then the import will be successful.\n",
    "\n",
    "[codespaces]: https://github.blog/changelog/2022-11-09-using-codespaces-with-jupyterlab-public-beta/\n",
    "[tutorials]: https://oceancolor.gsfc.nasa.gov/resources/docs/tutorials\n",
    "[edcloud]: https://www.earthdata.nasa.gov/eosdis/cloud-evolution\n",
    "[earthaccess-docs]: https://earthaccess.readthedocs.io/en/stable/\n",
    "[cmr]: https://cmr.earthdata.nasa.gov/search/site/docs/search/api.html\n",
    "[conda]: https://anaconda.org/conda-forge/earthaccess\n",
    "[pypi]: https://pypi.org/project/earthaccess/"
   ]
  },
  {
   "cell_type": "code",
   "execution_count": null,
   "id": "b29675a6",
   "metadata": {},
   "outputs": [],
   "source": [
    "import earthaccess"
   ]
  },
  {
   "cell_type": "markdown",
   "id": "5ec42906-caa0-4ab6-9cee-05545e57a67e",
   "metadata": {},
   "source": [
    "We also need `pathlib` for directory creation, at least until `earthaccess` version 0.9.1 is available."
   ]
  },
  {
   "cell_type": "code",
   "execution_count": null,
   "id": "4695967e-0066-49ca-ae83-702091be8234",
   "metadata": {},
   "outputs": [],
   "source": [
    "import pathlib"
   ]
  },
  {
   "cell_type": "markdown",
   "id": "850f47ff-717a-44fc-9e9a-56574a8d8034",
   "metadata": {},
   "source": [
    "[back to top](#contents) <a name=\"auth\"></a>"
   ]
  },
  {
   "cell_type": "markdown",
   "id": "946df351",
   "metadata": {},
   "source": [
    "## 2. NASA Earthdata Authentication\n",
    "\n",
    "Next, we authenticate using our Earthdata Login\n",
    "credentials. Authentication is not needed to search publicaly\n",
    "available collections in Earthdata, but is always needed to access\n",
    "data. We can use the `login` method from the `earthaccess`\n",
    "package. This will create an authenticated session when we provide a\n",
    "valid Earthdata Login username and password. The `earthaccess`\n",
    "package will search for credentials defined by **environmental\n",
    "variables** or within a **.netrc** file saved in the home\n",
    "directory. If credentials are not found, an interactive prompt will\n",
    "allow you to input credentials.\n",
    "\n",
    "<div class=\"alert alert-info\" role=\"alert\">\n",
    "The <code>persist=True</code> argument ensures any discovered credentials are\n",
    "stored in a <code>.netrc</code> file, so the argument is not necessary (but\n",
    "it's also harmless) for subsequent calls to <code>earthaccess.login</code>.\n",
    "</div>"
   ]
  },
  {
   "cell_type": "code",
   "execution_count": null,
   "id": "80bf9f83",
   "metadata": {},
   "outputs": [],
   "source": [
    "auth = earthaccess.login(persist=True)"
   ]
  },
  {
   "cell_type": "markdown",
   "id": "a08256ae-2cc5-469f-869c-cc607a20d9c8",
   "metadata": {},
   "source": [
    "[back to top](#contents) <a name=\"search\"></a>"
   ]
  },
  {
   "cell_type": "markdown",
   "id": "118af707-580e-43a9-b589-d0c1ec7f636d",
   "metadata": {},
   "source": [
    "## 3. Search for Data\n",
    "\n",
    "Collections on NASA Earthdata are discovered with the\n",
    "`search_datasets` function, which accepts an `instrument` filter as an\n",
    "easy way to get started. Each of the items in the list of\n",
    "collections returned has a \"short-name\"."
   ]
  },
  {
   "cell_type": "code",
   "execution_count": null,
   "id": "5526aef1",
   "metadata": {},
   "outputs": [],
   "source": [
    "results = earthaccess.search_datasets(instrument=\"oci\")"
   ]
  },
  {
   "cell_type": "code",
   "execution_count": null,
   "id": "e3abee6c",
   "metadata": {},
   "outputs": [],
   "source": [
    "for item in results:\n",
    "    summary = item.summary()\n",
    "    print(summary[\"short-name\"])"
   ]
  },
  {
   "cell_type": "markdown",
   "id": "a7e97469",
   "metadata": {},
   "source": [
    "Next, we use the `search_data` function to find granules within a\n",
    "collection. Let's use the `short_name` for the PACE/OCI Level-2\n",
    "quick-look, or near real time (NRT), product for biogeochemical properties (although you can\n",
    "search for granules accross collections too).\n",
    "\n",
    "<div class=\"alert alert-info\" role=\"alert\">\n",
    "The short name can also be found on <a href=\"https://search.earthdata.nasa.gov/search?fi=SPEXone!HARP2!OCI\" target=\"_blank\"> Eartdata Search</a>, directly under the collection name, after clicking on the \"i\" button for a collection in any search result.\n",
    "</div>\n",
    "\n",
    "The `count` argument limits the number of granules returned and stored in the `results` list, not the number of granules found."
   ]
  },
  {
   "cell_type": "code",
   "execution_count": null,
   "id": "21745b4c",
   "metadata": {},
   "outputs": [],
   "source": [
    "results = earthaccess.search_data(\n",
    "    short_name=\"PACE_OCI_L2_BGC_NRT\",\n",
    "    count=1,\n",
    ")"
   ]
  },
  {
   "cell_type": "markdown",
   "id": "b2ca034f",
   "metadata": {},
   "source": [
    "We can refine our search by passing more parameters that describe\n",
    "the spatiotemporal domain of our use case. Here, we use the\n",
    "`temporal` parameter to request a date range and the `bounding_box`\n",
    "parameter to request granules that intersect with a bounding box. We\n",
    "can even provide a `cloud_cover` threshold to limit files that have\n",
    "a lower percetnage of cloud cover. We do not provide a `count`, so\n",
    "we'll get all granules that satisfy the constraints."
   ]
  },
  {
   "cell_type": "code",
   "execution_count": null,
   "id": "780c6063-0f7b-4a07-863a-95df5eada566",
   "metadata": {},
   "outputs": [],
   "source": [
    "tspan = (\"2024-05-01\", \"2024-05-16\")\n",
    "bbox = (-76.75, 36.97, -75.74, 39.01)\n",
    "clouds = (0, 50)"
   ]
  },
  {
   "cell_type": "code",
   "execution_count": null,
   "id": "70fdf7aa-316c-4dc5-856e-18d94d985750",
   "metadata": {},
   "outputs": [],
   "source": [
    "results = earthaccess.search_data(\n",
    "    short_name=\"PACE_OCI_L2_BGC_NRT\",\n",
    "    temporal=tspan,\n",
    "    bounding_box=bbox,\n",
    "    cloud_cover=clouds,\n",
    ")"
   ]
  },
  {
   "cell_type": "markdown",
   "id": "f744a772",
   "metadata": {},
   "source": [
    "Displaying results shows the direct download link: try it! The\n",
    "link will download one granule to your local machine, which may or\n",
    "may not be what you want to do. Even if you are running the notebook\n",
    "on a remote host, this download link will open a new browser tab or\n",
    "window and offer to save a file to your local machine. If you are\n",
    "running the notebook locally, this may be of use. However, in the\n",
    "next section we'll see how to download all the results with one\n",
    "command."
   ]
  },
  {
   "cell_type": "code",
   "execution_count": null,
   "id": "167ab586",
   "metadata": {},
   "outputs": [],
   "source": [
    "results[0]"
   ]
  },
  {
   "cell_type": "code",
   "execution_count": null,
   "id": "f19c32b6-a63a-4781-82dc-26c8039447d8",
   "metadata": {},
   "outputs": [],
   "source": [
    "results[1]"
   ]
  },
  {
   "cell_type": "code",
   "execution_count": null,
   "id": "5e4402d0-9f82-4d09-9cfb-09307d81ba46",
   "metadata": {},
   "outputs": [],
   "source": [
    "results[2]"
   ]
  },
  {
   "cell_type": "markdown",
   "id": "05635f51-60cb-4a68-ab64-3f6f9ce66429",
   "metadata": {},
   "source": [
    "[back to top](#contents) <a name=\"download\"></a>"
   ]
  },
  {
   "cell_type": "markdown",
   "id": "ee617768-b26e-42ed-94ca-779adca060e5",
   "metadata": {},
   "source": [
    "## 4. Download Data\n",
    "\n",
    "An upcoming tutorial will need access to Level-1 files, whether or not we have direct access to the Earthdata Cloud, so let's go ahead and download a couple granules. As always, we start with an `earthaccess.search_data`."
   ]
  },
  {
   "cell_type": "code",
   "execution_count": null,
   "id": "3fb937f0-64dc-4beb-8e6e-477f76964baa",
   "metadata": {},
   "outputs": [],
   "source": [
    "results = earthaccess.search_data(\n",
    "    short_name=\"PACE_OCI_L1B_SCI\",\n",
    "    temporal=tspan,\n",
    "    bounding_box=bbox,\n",
    "    count=2,\n",
    ")"
   ]
  },
  {
   "cell_type": "markdown",
   "id": "58ff20f1",
   "metadata": {},
   "source": [
    "Now, we need to first understand the alternative to downloading granules, since you may be surprised\n",
    "that there is an alternative at all. The `earthaccess.open` function accepts the list of results from\n",
    "`earthaccess.search_data` and returns a list of file-like objects. No actual files are transferred."
   ]
  },
  {
   "cell_type": "code",
   "execution_count": null,
   "id": "38b35c38",
   "metadata": {},
   "outputs": [],
   "source": [
    "paths = earthaccess.open(results)"
   ]
  },
  {
   "cell_type": "markdown",
   "id": "3b232aa8",
   "metadata": {},
   "source": [
    "The file-like objects held in `paths` can each be read like a normal\n",
    "file. Here we load the first few bytes without any specialized\n",
    "reader."
   ]
  },
  {
   "cell_type": "code",
   "execution_count": null,
   "id": "2cf7c785",
   "metadata": {},
   "outputs": [],
   "source": [
    "with paths[0] as file:\n",
    "    line = file.readline().strip()\n",
    "line"
   ]
  },
  {
   "cell_type": "markdown",
   "id": "9622ccf5",
   "metadata": {},
   "source": [
    "Of course that doesn't mean anything (or does it? 😉), because this is\n",
    "a binary file that needs a reader which understands the file format.\n",
    "\n",
    "The `earthaccess.open` function is used when you want to directly read\n",
    "a bytes from a remote filesystem, but not download a whole file. When\n",
    "running code on a host with direct access to the NASA Earthdata\n",
    "Cloud, you don't need to download the data and `earthaccess.open`\n",
    "is the way to go.\n",
    "\n",
    "Now, let's look at the `earthaccess.download` function, which is used\n",
    "to copy files onto a filesystem local to the machine executing the\n",
    "code. For this function, provide the output of\n",
    "`earthaccess.search_data` along with a directory where `earthaccess`\n",
    "will store downloaded granules.\n",
    "\n",
    "Even if you only want to read a slice of the data, and downloading\n",
    "seems unncessary, if you use `earthaccess.open` while not running on\n",
    "a remote host with direct access to the NASA Earthdata Cloud,\n",
    "performance will be very poor. This is not a problem with \"the\n",
    "cloud\" or with `earthaccess`, it has to do with the data format and\n",
    "may soon be resolved.\n",
    "\n",
    "Let's continue to downloading the list of granules!"
   ]
  },
  {
   "cell_type": "code",
   "execution_count": null,
   "id": "5eb30ebf",
   "metadata": {},
   "outputs": [],
   "source": [
    "directory = pathlib.Path(\"L1B\")\n",
    "directory.mkdir(exist_ok=True)\n",
    "paths = earthaccess.download(results, directory)"
   ]
  },
  {
   "cell_type": "markdown",
   "id": "b8a7f96c",
   "metadata": {},
   "source": [
    "The `paths` list now contains paths to actual files on the local\n",
    "filesystem."
   ]
  },
  {
   "cell_type": "code",
   "execution_count": null,
   "id": "26b91862",
   "metadata": {},
   "outputs": [],
   "source": [
    "paths"
   ]
  },
  {
   "cell_type": "markdown",
   "id": "250864a9-ddeb-4c54-ab96-220e8e225495",
   "metadata": {},
   "source": [
    "<div class=\"alert alert-block alert-warning\">\n",
    "\n",
    "Anywhere in any of [these notebooks][tutorials] where `paths = earthaccess.open(...)` is used to read data directly from the NASA Earthdata Cloud, you need to substitute `paths = earthaccess.download(..., local_path)` before running the notebook on a local host or a remote host that does not have direct access to the NASA Earthdata Cloud.\n",
    "\n",
    "</div>\n",
    "\n",
    "[tutorials]: https://oceancolor.gsfc.nasa.gov/resources/docs/tutorials/\""
   ]
  },
  {
   "cell_type": "markdown",
   "id": "ca281ea1-d072-4a18-acf6-b1cbfda21200",
   "metadata": {},
   "source": [
    "[back to top](#contents)\n",
    "\n",
    "<div class=\"alert alert-info\" role=\"alert\">\n",
    "    \n",
    "You have completed the notebook on downloading and opening datasets. We now suggest starting the notebook on File Structure at Three Processing Levels.\n",
    "\n",
    "</div>"
   ]
  }
 ],
 "metadata": {
  "language_info": {
   "name": "python"
  }
 },
 "nbformat": 4,
 "nbformat_minor": 5
}
