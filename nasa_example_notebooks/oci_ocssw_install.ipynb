{
 "cells": [
  {
   "cell_type": "markdown",
   "id": "fb2b43af",
   "metadata": {},
   "source": [
    "# Installing and Running OCSSW Command-line Tools\n",
    "\n",
    "**Authors:** Carina Poulin (NASA, SSAI), Ian Carroll (NASA, UMBC), Anna Windle (NASA, SSAI)\n",
    "\n",
    "<div class=\"alert alert-success\" role=\"alert\">\n",
    "\n",
    "The following notebooks are **prerequisites** for this tutorial.\n",
    "\n",
    "- Learn with OCI: [Data Access][oci-data-access]\n",
    "\n",
    "</div>\n",
    "\n",
    "<div class=\"alert alert-info\" role=\"alert\">\n",
    "\n",
    "An [Earthdata Login][edl] account is required to access data from the NASA Earthdata system, including NASA ocean color data.\n",
    "\n",
    "</div>\n",
    "\n",
    "[edl]: https://urs.earthdata.nasa.gov/\n",
    "[oci-data-access]: https://oceancolor.gsfc.nasa.gov/resources/docs/tutorials/notebooks/oci_data_access/\n",
    "\n",
    "## Summary\n",
    "\n",
    "[SeaDAS][seadas] is the official data analysis sofware of NASA's Ocean Biology Distributed Active Archive Center (OB.DAAC); used to process, display and analyse ocean color data. SeaDAS is a dektop application that includes the Ocean Color Science Software (OCSSW) libraries. There are also command line programs for the OCSSW libraries, which we can use to write processing scripts or notebooks. This tutorial will show you how to install OCSSW and test it by processing a Level-1B (L1B) file from PACE OCI to a Level-2 (L2) file using `l2gen`. The installation can find OCSSW tools that work on modern Linux and macOS operating systems but not Windows.\n",
    "\n",
    "[seadas]: https://seadas.gsfc.nasa.gov/\n",
    "\n",
    "## Learning Objectives\n",
    "\n",
    "At the end of this notebok you will know:\n",
    "* How to install OCSSW on your server\n",
    "* How to set up your OCSSW session\n",
    "* How to process a L1B file to L2 using l2gen\n",
    "\n",
    "## Contents\n",
    "\n",
    "1. [Setup](#setup)\n",
    "1. [Install OCSSW](#ocssw)\n",
    "1. [Process Data with `l2gen`](#l2gen)\n",
    "1. [All-in-One](#all) \n",
    "\n",
    "<a name=\"setup\"></a> "
   ]
  },
  {
   "cell_type": "markdown",
   "id": "b68cbbaf",
   "metadata": {},
   "source": [
    "## 1. Setup\n",
    "\n",
    "<div class=\"alert alert-info\" role=\"alert\">\n",
    "\n",
    "This tutorial is written in a Jupyter notebook connected to a Bash kernel. If you have downloaded this Jupyter notebook and want to run it, you also need to connected it to a Bash kernel. Alternatively, you can copy the code cells to the Terminal application found in the JupyterLab Launcher, which speaks Bash or something close enough.\n",
    "\n",
    "</div>\n",
    "\n",
    "\n",
    "### (Optional) Use a Bash Kernel\n",
    "\n",
    "<div class=\"alert alert-danger\" role=\"alert\">\n",
    "\n",
    "Conda uses a lot of memory while configuring your environment. Choose an option with more than about 5GB of RAM from the JupyterHub Control Panel, or your install will fail.\n",
    "\n",
    "</div>\n",
    "\n",
    "Run the following command. If the terminal asks you to update conda, type Y to accept."
   ]
  },
  {
   "cell_type": "code",
   "execution_count": null,
   "id": "a3139837",
   "metadata": {},
   "outputs": [],
   "source": [
    "%conda install bash_kernel"
   ]
  },
  {
   "cell_type": "markdown",
   "id": "743f791e",
   "metadata": {},
   "source": [
    "Follow the prompts from conda to proceed with any installs and updates. If prompted, enter \"y\" to accept.\n",
    "\n",
    "Confirm the bash kernel is installed by starting a new Launcher. You should see the bash kernel along with Python and other kernels installed in your JupyterHub. You should now **change the kernel of the notebook** by clicking on the kernel name in the upper-right corner of the window and selecting the Bash kernel before moving on to the rest of the tutorial.\n",
    "\n",
    "[back to top](#contents) <a name=\"ocssw\"></a>"
   ]
  },
  {
   "cell_type": "markdown",
   "id": "bd2b73fa",
   "metadata": {},
   "source": [
    "## 2. Install OCSSW\n",
    "\n",
    "The OCSSW software is not a Python package and not available from `conda` or any other repository. To install it, we begin by aquiring an installer script from the OB.DAAC. This script is actually part of OCSSW, but we can use it independently to download and install the OCSSW binaries suitable for our system."
   ]
  },
  {
   "cell_type": "code",
   "execution_count": null,
   "id": "5c57d0ff",
   "metadata": {},
   "outputs": [],
   "source": [
    "wget https://oceandata.sci.gsfc.nasa.gov/manifest/install_ocssw"
   ]
  },
  {
   "cell_type": "markdown",
   "id": "7314af61",
   "metadata": {},
   "source": [
    "Similarly, we'll need the manifest module imported by the installer."
   ]
  },
  {
   "cell_type": "code",
   "execution_count": null,
   "id": "5e900251",
   "metadata": {},
   "outputs": [],
   "source": [
    "wget https://oceandata.sci.gsfc.nasa.gov/manifest/manifest.py"
   ]
  },
  {
   "cell_type": "markdown",
   "id": "7582a65f",
   "metadata": {},
   "source": [
    "Before you can use a downloaded script, you need to change its mode to be executable."
   ]
  },
  {
   "cell_type": "code",
   "execution_count": null,
   "id": "8d50d693",
   "metadata": {},
   "outputs": [],
   "source": [
    "chmod +x install_ocssw"
   ]
  },
  {
   "cell_type": "markdown",
   "id": "af099c7d",
   "metadata": {},
   "source": [
    "Take a look at the different OCSSW \"tags\" you can install. It is recommended to use the most recent one for the installation, which is T2024.16 at the time of writing this tutorial. Tags starting with \"V\" are operational versions, and tags starting with \"T\" are test versions. Use \"T\" to process the latest data products, but keep in mind that processing can change a lot between tags. Other tags are deprecated, including those starting with \"R\"."
   ]
  },
  {
   "cell_type": "code",
   "execution_count": null,
   "id": "0c71823c",
   "metadata": {},
   "outputs": [],
   "source": [
    "./install_ocssw --list_tags"
   ]
  },
  {
   "cell_type": "markdown",
   "id": "7dc28eea",
   "metadata": {},
   "source": [
    "Define an environmental variable called \"OCSSWROOT\" that specifies a directory for your OCSSW installation. Environment variables are set in Bash using the `export` command, and displayed with `printenv`"
   ]
  },
  {
   "cell_type": "code",
   "execution_count": null,
   "id": "be7cc642",
   "metadata": {},
   "outputs": [],
   "source": [
    "export OCSSWROOT=/tmp/ocssw"
   ]
  },
  {
   "cell_type": "code",
   "execution_count": null,
   "id": "aca12a68",
   "metadata": {},
   "outputs": [],
   "source": [
    "printenv OCSSWROOT"
   ]
  },
  {
   "cell_type": "markdown",
   "id": "786bbeac",
   "metadata": {},
   "source": [
    "<div class=\"alert alert-warning\" role=\"alert\">\n",
    "    \n",
    "You will need to [repeat these installation steps](#all) if your OCSSWROOT directory does not persist between sessions.\n",
    "\n",
    "</div>\n",
    "\n",
    "The `/tmp/ocssw` folder, for instance, will not be present the next time JupyterHub creates a server. Consider the trade off between installation time, speed, and storage costs when choosing your OCSSWROOT. With the arguments below, the installation takes 11GB of storage space. We use the quick and cheap location for this tutorial.\n",
    "\n",
    "Install OCSSW using the `--tag` argument to pick from the list above. Also provide optional arguments for sensors you will be working with. In this case, we will only be using OCI. A list of optional arguments can be found on the OCSSW webpage or with `./install_ocssw --help`.\n",
    "\n",
    "*Tip:* The process is not finished as long as the counter to the left of the cell shows `[*]`. It will take some time to install all the tools (7 of 7 installations)."
   ]
  },
  {
   "cell_type": "code",
   "execution_count": null,
   "id": "c2191baa",
   "metadata": {},
   "outputs": [],
   "source": [
    "./install_ocssw --tag=T2024.19 --seadas --oci"
   ]
  },
  {
   "cell_type": "markdown",
   "id": "47c8e3c9",
   "metadata": {},
   "source": [
    "Finish up by calling `source` on the \"OCSSW_bash.env\" file, which exports additional environment variables. This environment file specifies the locations of all files required by OCSSW, and must be exported in every Terminal or Bash kernel before you run `l2gen` or any other OCSSW command."
   ]
  },
  {
   "cell_type": "code",
   "execution_count": null,
   "id": "67f9cd86",
   "metadata": {},
   "outputs": [],
   "source": [
    "source $OCSSWROOT/OCSSW_bash.env"
   ]
  },
  {
   "cell_type": "markdown",
   "id": "6cae82a7",
   "metadata": {},
   "source": [
    "Confirm the environment has been set by checking that *another* `install_ocssw` script is now discoverable by Bash at the newly installed location."
   ]
  },
  {
   "cell_type": "code",
   "execution_count": null,
   "id": "efec133d",
   "metadata": {},
   "outputs": [],
   "source": [
    "which install_ocssw"
   ]
  },
  {
   "cell_type": "markdown",
   "id": "c2e30888",
   "metadata": {},
   "source": [
    "You are now ready to run `l2gen`, the Level-2 processing function for all ocean color instruments under the auspices of the GSFC Ocean Biology Processing Group!\n",
    "\n",
    "[back to top](#contents) <a name=\"l2gen\"></a>"
   ]
  },
  {
   "cell_type": "markdown",
   "id": "283ede26",
   "metadata": {},
   "source": [
    "## 3. Process L1B Data with `l2gen`\n",
    "\n",
    "Run `l2gen` by itself to view the extensive list of options available. You can find more information [on the Seadas website][docs].\n",
    "\n",
    "[docs]: https://seadas.gsfc.nasa.gov/help-8.3.0/processors/ProcessL2gen.html"
   ]
  },
  {
   "cell_type": "code",
   "execution_count": null,
   "id": "5799b2a4",
   "metadata": {},
   "outputs": [],
   "source": [
    "l2gen"
   ]
  },
  {
   "cell_type": "markdown",
   "id": "44417c5d",
   "metadata": {},
   "source": [
    "Feel free to explore all of `l2gen` options to produce a highly customized Level-2 dataset for your research. Here we just scratch the surface.\n",
    "\n",
    "To process a L1B file using `l2gen` you need, at a minimum, to set an input file name (`ifile`) and an output file name (`ofile`). You can also indicate a data suite; in this example, we will proceed with the Surface Reflectance suite used to make true color images (`SFREFL`). We turn off the atmospheric correction with `atmocor=0` to save processing time.\n",
    "\n",
    "For this example, we will be using the L1B file downloaded in the OCI Data Access notebook. Confirm that the L1B file to process is at the expected location by listing (with `ls`) the directory contents. If the directory is empty, check that you've completed the prerequiste notebooks for this tutorial!"
   ]
  },
  {
   "cell_type": "code",
   "execution_count": null,
   "id": "f6a5a6d6",
   "metadata": {},
   "outputs": [],
   "source": [
    "ls L1B"
   ]
  },
  {
   "cell_type": "markdown",
   "id": "1b6a0ac2",
   "metadata": {},
   "source": [
    "Create a directory for output files."
   ]
  },
  {
   "cell_type": "code",
   "execution_count": null,
   "id": "17e1898f",
   "metadata": {},
   "outputs": [],
   "source": [
    "mkdir L2"
   ]
  },
  {
   "cell_type": "markdown",
   "id": "c18e8971",
   "metadata": {},
   "source": [
    "And run! Note, this may take several minutes."
   ]
  },
  {
   "cell_type": "code",
   "execution_count": null,
   "id": "c4b4ad37",
   "metadata": {},
   "outputs": [],
   "source": [
    "l2gen \\\n",
    "  ifile=L1B/PACE_OCI.20240501T165311.L1B.nc \\\n",
    "  ofile=L2/PACE_OCI.20240501T165311.L2.SFREFL.nc \\\n",
    "  suite=SFREFL \\\n",
    "  atmocor=0"
   ]
  },
  {
   "cell_type": "markdown",
   "id": "27951473",
   "metadata": {},
   "source": [
    "<div class=\"alert alert-success\" role=\"alert\">\n",
    "\n",
    "Scroll down in the output above to see updates on processing. Upon completion, you should have a new processed L2 file in your L2 folder.\n",
    "\n",
    "</div>\n",
    "\n",
    "[back to top](#contents) <a name=\"all\"></a>"
   ]
  },
  {
   "cell_type": "markdown",
   "id": "67877500",
   "metadata": {},
   "source": [
    "## 4. All-in-One\n",
    "\n",
    "In case you need to run the sequence above in a terminal regularly, here are all the commands\n",
    "to copy and run together. This assumes you already used `wget` to persist the install script\n",
    "and `manifest.json` in the current directory."
   ]
  },
  {
   "cell_type": "code",
   "execution_count": null,
   "id": "cc6981db",
   "metadata": {},
   "outputs": [],
   "source": [
    "export OCSSWROOT=/tmp/ocssw\n",
    "./install_ocssw --tag=T2024.19 --seadas --oci\n",
    "source $OCSSWROOT/OCSSW_bash.env"
   ]
  },
  {
   "cell_type": "markdown",
   "id": "5be77d0a",
   "metadata": {},
   "source": [
    "Or, if that assumption is wrong and you also need to `wget` those files, copy and run the following."
   ]
  },
  {
   "cell_type": "code",
   "execution_count": null,
   "id": "f085039e",
   "metadata": {},
   "outputs": [],
   "source": [
    "wget https://oceandata.sci.gsfc.nasa.gov/manifest/install_ocssw\n",
    "wget https://oceandata.sci.gsfc.nasa.gov/manifest/manifest.py\n",
    "chmod +x install_ocssw\n",
    "export OCSSWROOT=/tmp/ocssw\n",
    "./install_ocssw --tag=T2024.19 --seadas --oci\n",
    "source $OCSSWROOT/OCSSW_bash.env"
   ]
  },
  {
   "cell_type": "markdown",
   "id": "77d167cf",
   "metadata": {},
   "source": [
    "[back to top](#contents)\n",
    "\n",
    "<div class=\"alert alert-info\" role=\"alert\">\n",
    "\n",
    "You have completed the notebook on installing OCCSW. Check out the notebook on Processing with OCSSW Tools.\n",
    "\n",
    "</div>"
   ]
  }
 ],
 "metadata": {
  "language_info": {
   "name": "bash"
  }
 },
 "nbformat": 4,
 "nbformat_minor": 5
}
